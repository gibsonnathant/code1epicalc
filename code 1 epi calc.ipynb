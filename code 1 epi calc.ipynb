{
 "cells": [
  {
   "cell_type": "code",
   "execution_count": 5,
   "id": "4bd30880",
   "metadata": {},
   "outputs": [
    {
     "name": "stdout",
     "output_type": "stream",
     "text": [
      "Population: 1780000\n",
      "Existing Cases: 99\n",
      "5.561797752808989\n"
     ]
    }
   ],
   "source": [
    "# prevalence No.1\n",
    "population = int(input(\"Population: \"))\n",
    "existingCases = int(input(\"Number of Existing Cases: \"))\n",
    "prevalence = (existingCases / population) * 100000\n",
    "print(prevalence)"
   ]
  },
  {
   "cell_type": "code",
   "execution_count": 5,
   "id": "36f45e5e",
   "metadata": {},
   "outputs": [
    {
     "name": "stdout",
     "output_type": "stream",
     "text": [
      "Number of New Cases: 19\n",
      "1.0674157303370786\n"
     ]
    }
   ],
   "source": [
    "# incidence No.1\n",
    "newCases = int(input(\"Number of New Cases: \"))\n",
    "incidence = (newCases / population) * 100000 \n",
    "print(incidence)"
   ]
  },
  {
   "cell_type": "code",
   "execution_count": 7,
   "id": "0246d551",
   "metadata": {},
   "outputs": [
    {
     "name": "stdout",
     "output_type": "stream",
     "text": [
      "Number of those who died: 2\n",
      "Number of those who had the disease: 99\n",
      "2020.2020202020203\n"
     ]
    }
   ],
   "source": [
    "# mortality rate No.1\n",
    "deaths = int(input(\"Number of those who died: \"))\n",
    "segment = int(input(\"Number of those who had the disease: \"))\n",
    "mortalityRate = (deaths / segment) * 100000\n",
    "print(mortalityRate)"
   ]
  },
  {
   "cell_type": "code",
   "execution_count": 14,
   "id": "89d097a2",
   "metadata": {},
   "outputs": [
    {
     "name": "stdout",
     "output_type": "stream",
     "text": [
      "13\n",
      "3\n"
     ]
    }
   ],
   "source": [
    "# years of potential life lost No.1\n",
    "lifeExpectancy = 77\n",
    "ages = [64, 74]\n",
    "print(lifeExpectancy - ages[0])\n",
    "print(lifeExpectancy - ages[1])\n"
   ]
  },
  {
   "cell_type": "code",
   "execution_count": 15,
   "id": "7545a86c",
   "metadata": {},
   "outputs": [
    {
     "name": "stdout",
     "output_type": "stream",
     "text": [
      "8.0\n"
     ]
    }
   ],
   "source": [
    "lifelost = [13, 3]\n",
    "yopl = sum(lifelost) / len(lifelost)\n",
    "print(yopl)"
   ]
  },
  {
   "cell_type": "code",
   "execution_count": null,
   "id": "472e9841",
   "metadata": {},
   "outputs": [],
   "source": [
    "# prevalence No.2\n"
   ]
  }
 ],
 "metadata": {
  "kernelspec": {
   "display_name": "Python 3 (ipykernel)",
   "language": "python",
   "name": "python3"
  },
  "language_info": {
   "codemirror_mode": {
    "name": "ipython",
    "version": 3
   },
   "file_extension": ".py",
   "mimetype": "text/x-python",
   "name": "python",
   "nbconvert_exporter": "python",
   "pygments_lexer": "ipython3",
   "version": "3.10.9"
  }
 },
 "nbformat": 4,
 "nbformat_minor": 5
}
